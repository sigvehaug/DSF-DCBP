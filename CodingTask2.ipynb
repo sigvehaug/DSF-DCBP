{
  "nbformat": 4,
  "nbformat_minor": 0,
  "metadata": {
    "colab": {
      "name": "CodingTask2.ipynb",
      "provenance": [],
      "authorship_tag": "ABX9TyPA61o9cCJB6urKuVTcETJg",
      "include_colab_link": true
    },
    "kernelspec": {
      "name": "python3",
      "display_name": "Python 3"
    },
    "language_info": {
      "name": "python"
    }
  },
  "cells": [
    {
      "cell_type": "markdown",
      "metadata": {
        "id": "view-in-github",
        "colab_type": "text"
      },
      "source": [
        "<a href=\"https://colab.research.google.com/github/sigvehaug/DSF-DCBP/blob/main/CodingTask2.ipynb\" target=\"_parent\"><img src=\"https://colab.research.google.com/assets/colab-badge.svg\" alt=\"Open In Colab\"/></a>"
      ]
    },
    {
      "cell_type": "markdown",
      "source": [],
      "metadata": {
        "id": "faeCt-MlqlIJ"
      }
    },
    {
      "cell_type": "markdown",
      "source": [
        "Data Science Fundamentals for DCBP, S. Haug, University of Bern"
      ],
      "metadata": {
        "id": "_-1mhuoK6uqC"
      }
    },
    {
      "cell_type": "markdown",
      "source": [
        "# Coding Task 2\n",
        "\n",
        "- Deadline (send your notebook with solutions to sigve.haug@unibe.ch): 2024-05-14 24:00\n",
        "- Solutions in lecture on 2024-05-15\n",
        "- Estimated effort: from 4 to 60 hours\n",
        "- Images (data) on Ilias in the Data folder, the images.zip file\n",
        "- Main notebook is number 11 for this task, however, also others may help you. You can also benefit a lot from googeling for code examples or let gemini or chatgpt write various solutions for you.\n"
      ],
      "metadata": {
        "id": "gn4RkUC66-ou"
      }
    },
    {
      "cell_type": "markdown",
      "source": [
        "## Subtasks (maximum 12.5 points)"
      ],
      "metadata": {
        "id": "KYKF2iS56v1z"
      }
    },
    {
      "cell_type": "markdown",
      "source": [
        "- Upload the 15 images to a folder on your google drive. Write a function which retrieves the filenames of the images, contains a loop converting them to png images and saves them. [about 1 hour] [max 3 points]\n",
        "- What does these images show and why would you like to automate the counting of the colored bins? (Sasha knows what these images are) [about 15 min][max 0 points]\n",
        "- With some filtering and thresholding, write a function which converts the colored bins into nice white segments on a black background for one image. [about 1 hour][max 3 points]\n",
        "- Write an algorithm which counts the number of bins. First approach could be a \"sliding window\" algorithm, i.e a loop sliding over the image and counting regions with substantial white content. There may also be nice segmentation tools out \"there\" already. You may google. [about 4 hours][max 3 points]\n",
        "- Write an algorithm which does the latter task on all images. As the images are quite different, this is a large task which goes beyond the time budget of this exercise, however, you can give it a try. If it works out for a couple of images, that is already good. [from 4 to 50 hours][max 3.5 points]"
      ],
      "metadata": {
        "id": "rXqhhPMu9aPx"
      }
    },
    {
      "cell_type": "markdown",
      "source": [
        "Work in teams and have fun !"
      ],
      "metadata": {
        "id": "OfvMackX-SFc"
      }
    },
    {
      "cell_type": "code",
      "source": [],
      "metadata": {
        "id": "jNRHC9V00iKf"
      },
      "execution_count": null,
      "outputs": []
    }
  ]
}