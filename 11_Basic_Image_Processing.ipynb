{
  "cells": [
    {
      "cell_type": "markdown",
      "metadata": {
        "id": "view-in-github",
        "colab_type": "text"
      },
      "source": [
        "<a href=\"https://colab.research.google.com/github/sigvehaug/DSF-DCBP/blob/main/11_Basic_Image_Processing.ipynb\" target=\"_parent\"><img src=\"https://colab.research.google.com/assets/colab-badge.svg\" alt=\"Open In Colab\"/></a>"
      ]
    },
    {
      "cell_type": "markdown",
      "metadata": {
        "id": "1v0aiZZLxBZ3"
      },
      "source": [
        "# 11. Basic Image Processing: Filtering, scaling, thresholding"
      ]
    },
    {
      "cell_type": "markdown",
      "source": [
        "A lot of data come as images or can be transformed into images, e.g microscope images, phone images, videos, spectrograms of speach and music and so on. Consequently automatic image processing is very important in many research domains.\n",
        "\n",
        "Python and Numpy have very powerful image processing capabilities. This is natural since an image is nothing but a table/array of pixels with some value in each pixel. All the linear algebra power of Numpy can then be applied.\n",
        "\n",
        "Almost all image processing pipelines start with some basic procedures like thresholding, scaling, or projecting a multi-dimensional image."
      ],
      "metadata": {
        "id": "EKoIKDzvXNDo"
      }
    },
    {
      "cell_type": "markdown",
      "source": [
        "In this tutorial we will use numpy, skimage and PIL. You can learn about some more tools here: https://neptune.ai/blog/image-processing-python-libraries-for-machine-learning"
      ],
      "metadata": {
        "id": "3OyjW1sO4ucB"
      }
    },
    {
      "cell_type": "markdown",
      "source": [
        "## Loading"
      ],
      "metadata": {
        "id": "lPBiBFXZDxdv"
      }
    },
    {
      "cell_type": "markdown",
      "metadata": {
        "id": "g0D5qW2KxBZ6"
      },
      "source": [
        "Let us import again all necessary packages (the package skimage is new to us):"
      ]
    },
    {
      "cell_type": "code",
      "execution_count": null,
      "metadata": {
        "id": "TYDcmKVCxBZ7"
      },
      "outputs": [],
      "source": [
        "import numpy as np\n",
        "import matplotlib.pyplot as plt\n",
        "import skimage.io as io\n",
        "# from skimage.external.tifffile import TiffFile\n",
        "import skimage.filters as skf\n",
        "import skimage.morphology as skm\n",
        "from PIL import Image"
      ]
    },
    {
      "cell_type": "markdown",
      "metadata": {
        "id": "Mx9naujLxBZ9"
      },
      "source": [
        "Additionally, this module offers a set of binary operators essential to operate on the masks resulting from segmentation."
      ]
    },
    {
      "cell_type": "code",
      "execution_count": null,
      "metadata": {
        "id": "OOOdmkJkhpUZ"
      },
      "outputs": [],
      "source": [
        "from google.colab import drive\n",
        "drive.mount('/content/drive')"
      ]
    },
    {
      "cell_type": "code",
      "source": [
        "from heic2png import HEIC2PNG"
      ],
      "metadata": {
        "id": "ME0ZjgQlyacz"
      },
      "execution_count": null,
      "outputs": []
    },
    {
      "cell_type": "code",
      "source": [
        "heic_img = HEIC2PNG('/content/drive/MyDrive/Courses/DSF-DCBP/Data-Images/IMG_5379.HEIC')"
      ],
      "metadata": {
        "id": "X8AApb1ex-lZ"
      },
      "execution_count": null,
      "outputs": []
    },
    {
      "cell_type": "code",
      "source": [
        "#heic_img.save()"
      ],
      "metadata": {
        "id": "ctQubBhcyqU_"
      },
      "execution_count": null,
      "outputs": []
    },
    {
      "cell_type": "code",
      "source": [
        "#! ls -l /content/drive/MyDrive/Courses/DSF-DCBP/Data-Images/"
      ],
      "metadata": {
        "id": "B9dfv6x-eh6l"
      },
      "execution_count": null,
      "outputs": []
    },
    {
      "cell_type": "markdown",
      "metadata": {
        "id": "O7RqD5O9FPl1"
      },
      "source": [
        "## Exploring an image"
      ]
    },
    {
      "cell_type": "code",
      "source": [
        "url_pre  = '/content/drive/MyDrive/Courses/DSF-DCBP/Data-Images/'\n",
        "url_name = 'IMG_5387.png'"
      ],
      "metadata": {
        "id": "agEGK8nUz1Nu"
      },
      "execution_count": null,
      "outputs": []
    },
    {
      "cell_type": "markdown",
      "source": [
        "Retrieve one channel."
      ],
      "metadata": {
        "id": "5wbvE_EC3hZb"
      }
    },
    {
      "cell_type": "code",
      "execution_count": null,
      "metadata": {
        "id": "S4wil7CHxBZ-"
      },
      "outputs": [],
      "source": [
        "#load image and show the B channel\n",
        "imageRGB  = io.imread(url_pre+url_name)\n",
        "plt.imshow(imageRGB)\n",
        "image = imageRGB[:,:,2]\n",
        "print(imageRGB.shape,image.shape)\n",
        "#plot image\n",
        "plt.figure(figsize=(10,10))\n",
        "plt.imshow(image,cmap = 'gray')\n",
        "plt.show()"
      ]
    },
    {
      "cell_type": "markdown",
      "metadata": {
        "id": "uEFY4TAsDe_p"
      },
      "source": [
        "This is an image of some chemical solutions. Our ultimate goal is to write an algorithm which can automatically count the colored bins. If you want to know why, ask Sasha."
      ]
    },
    {
      "cell_type": "markdown",
      "source": [
        "\n",
        "\n",
        "---\n",
        "\n",
        "\n",
        "Let's study the image a bit further"
      ],
      "metadata": {
        "id": "yTzv4Gu535pe"
      }
    },
    {
      "cell_type": "code",
      "execution_count": null,
      "metadata": {
        "id": "ZlFDWC2eFgEX"
      },
      "outputs": [],
      "source": [
        "\n",
        "print(type(image))\n",
        "print(image.dtype)\n",
        "image\n"
      ]
    },
    {
      "cell_type": "code",
      "execution_count": null,
      "metadata": {
        "id": "hmlyDVCvGEPg"
      },
      "outputs": [],
      "source": [
        "# As the image is a numpy array, we could to arithmetics on it, e.g.\n",
        "print(image/2, image.shape,image.max(), image.min())"
      ]
    },
    {
      "cell_type": "markdown",
      "source": [
        "\n",
        "\n",
        "---\n",
        "\n",
        "\n",
        "Let us do a crop."
      ],
      "metadata": {
        "id": "g1qCqTah3pvt"
      }
    },
    {
      "cell_type": "code",
      "execution_count": null,
      "metadata": {
        "id": "sa9YzQd_I_Qv"
      },
      "outputs": [],
      "source": [
        "# We are only interested in the lower part, so let's do a crop\n",
        "image = image[image.shape[0]//2:image.shape[0],:]\n",
        "print(image.shape)\n",
        "plt.imshow(image, cmap ='gray')\n",
        "plt.show()"
      ]
    },
    {
      "cell_type": "markdown",
      "metadata": {
        "id": "8bYORqKXQE-M"
      },
      "source": [
        "## Filtering"
      ]
    },
    {
      "cell_type": "markdown",
      "metadata": {
        "id": "gXhXzqFcSeR8"
      },
      "source": [
        "A large set of filters are offered in scikit-image. Filtering is a local operation, where a value is calculated for each pixel and its surrounding region according to some function. For example a median filter of size 3, calculates for each pixel the median value of the 3x3 region around it.\n",
        "\n",
        "Most filters take as input a specified region to consider for the calculation (e.g. 3x3 region). Those can be defined using the morphology module."
      ]
    },
    {
      "cell_type": "markdown",
      "source": [
        "Filtering may rerquire a lot of computations and takes time. The filtering below takes more than a minute."
      ],
      "metadata": {
        "id": "TZyfSZ2e6lh9"
      }
    },
    {
      "cell_type": "code",
      "execution_count": null,
      "metadata": {
        "id": "2xRESM0UQRdA"
      },
      "outputs": [],
      "source": [
        "# There are some reflections or white dots in the black bins. Let's try to get rid of them with a filter.\n",
        "image_mean = skf.median(image,footprint=skm.disk(20))\n",
        "plt.imshow(image_mean, cmap ='gray')\n",
        "plt.show()"
      ]
    },
    {
      "cell_type": "markdown",
      "metadata": {
        "id": "idmph56gNrLk"
      },
      "source": [
        "## Thresholding"
      ]
    },
    {
      "cell_type": "markdown",
      "metadata": {
        "id": "PgmxzcKYS2VW"
      },
      "source": [
        "Another common operation is to try isolating regions of an image based on their intensity by using an intensity threshold: one can create a mask object where all values larger than a threshold are 1 and the other 0. It is usually better to use a smoothed version of the image (e.g. median or gaussian filtering) to avoid including noisy pixels in the mask.\n"
      ]
    },
    {
      "cell_type": "code",
      "execution_count": null,
      "metadata": {
        "id": "oBk2mtYtGuLr"
      },
      "outputs": [],
      "source": [
        "threshold_manual = 60\n",
        "\n",
        "#create a mask using a logical operation\n",
        "image_threshold = image_mean < threshold_manual\n",
        "\n",
        "plt.figure(figsize=(12, 12))\n",
        "plt.imshow(image_threshold, cmap ='gray')\n",
        "plt.show()"
      ]
    },
    {
      "cell_type": "code",
      "execution_count": null,
      "metadata": {
        "id": "62mAJVvIK_HR"
      },
      "outputs": [],
      "source": [
        "# Let us play with the threshold iteractively to find a good value\n",
        "#from ipywidgets import interact\n",
        "from ipywidgets import *\n",
        "\n",
        "def update(threshold_manual = 120):\n",
        "  image_threshold = image_mean<threshold_manual\n",
        "  plt.figure(figsize=(12, 12))\n",
        "  plt.imshow(image_threshold, cmap ='gray')\n",
        "  plt.show()\n",
        "\n",
        "interact(update);"
      ]
    },
    {
      "cell_type": "markdown",
      "metadata": {
        "id": "qxh0dc0iNA31"
      },
      "source": [
        "Around 60 seems to be a good threshold. Now we would like to count the bins. This is part of the challenge in coding task 2."
      ]
    },
    {
      "cell_type": "markdown",
      "metadata": {
        "id": "Ova3YE5HxBaC"
      },
      "source": [
        "## Rescaling"
      ]
    },
    {
      "cell_type": "markdown",
      "metadata": {
        "id": "-oXUlDPbxBaC"
      },
      "source": [
        "A very common operation to do in an image processing pipeline, is to rescale the intensity of images. The reasons can be diverse: for example, one might want to remove an offset added to each pixel by the camera, or one might want to homogenize multiple images with slightly varying exposures.\n",
        "\n",
        "The simplest thing to do is to rescale from min to max in the range 0-1:"
      ]
    },
    {
      "cell_type": "code",
      "execution_count": null,
      "metadata": {
        "id": "6D-iW6RWxBaC"
      },
      "outputs": [],
      "source": [
        "# Let's first look at the intensity distribution of the image.\n",
        "plt.hist(np.ravel(image), bins = np.arange(0,255)) # np.ravel flattens image into 1D array\n",
        "plt.show()\n",
        "print(\"min val: \"+ str(np.min(image)))\n",
        "print(\"max val: \"+ str(np.max(image)))"
      ]
    },
    {
      "cell_type": "code",
      "execution_count": null,
      "metadata": {
        "id": "JgUiYJ4pxBaC"
      },
      "outputs": [],
      "source": [
        "# Normalize the pixelvalues to be between 0 and 1\n",
        "image_minmax = (image-image.min())/(image.max()-image.min())\n",
        "image_minmax[image_minmax>1] = 1\n",
        "plt.hist(np.ravel(image_minmax))\n",
        "plt.show()"
      ]
    },
    {
      "cell_type": "markdown",
      "metadata": {
        "id": "rlmDgOwFxBaG"
      },
      "source": [
        "## Further Notes"
      ]
    },
    {
      "cell_type": "markdown",
      "source": [
        "\n",
        "Image processing is a large field. There is not space to cover all topics in this course, for example segmentation, classification etc. The purpose has been to get us used to think of images as numpy arrays and do basic operations on them.  "
      ],
      "metadata": {
        "id": "N36uc9AXdRRZ"
      }
    },
    {
      "cell_type": "markdown",
      "source": [
        "# Mandatory assignment by 17:00\n",
        "\n",
        "Submit one question regarding this notebook [here](https://docs.google.com/forms/d/e/1FAIpQLSeQskEubSUMw1lCRBBnOx5orKjCiMgQ-AWgkliu0Nnf-XEfvA/viewform?usp=sf_link)."
      ],
      "metadata": {
        "id": "ZC4wsFvZuM0I"
      }
    }
  ],
  "metadata": {
    "colab": {
      "name": "11-Basic-Image-Processing.ipynb",
      "provenance": [],
      "include_colab_link": true
    },
    "kernelspec": {
      "display_name": "Python 3",
      "language": "python",
      "name": "python3"
    },
    "language_info": {
      "codemirror_mode": {
        "name": "ipython",
        "version": 3
      },
      "file_extension": ".py",
      "mimetype": "text/x-python",
      "name": "python",
      "nbconvert_exporter": "python",
      "pygments_lexer": "ipython3",
      "version": "3.6.7"
    },
    "toc": {
      "base_numbering": 1,
      "nav_menu": {},
      "number_sections": false,
      "sideBar": true,
      "skip_h1_title": false,
      "title_cell": "Table of Contents",
      "title_sidebar": "Contents",
      "toc_cell": false,
      "toc_position": {},
      "toc_section_display": true,
      "toc_window_display": true
    }
  },
  "nbformat": 4,
  "nbformat_minor": 0
}