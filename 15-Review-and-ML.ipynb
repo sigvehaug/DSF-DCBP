{
  "cells": [
    {
      "cell_type": "markdown",
      "metadata": {
        "id": "view-in-github",
        "colab_type": "text"
      },
      "source": [
        "<a href=\"https://colab.research.google.com/github/sigvehaug/DSF-DCBP/blob/main/15-Review-and-ML.ipynb\" target=\"_parent\"><img src=\"https://colab.research.google.com/assets/colab-badge.svg\" alt=\"Open In Colab\"/></a>"
      ]
    },
    {
      "cell_type": "markdown",
      "metadata": {
        "id": "i0B4fNelHOlO"
      },
      "source": [
        "## Data Science Fundamentals for DCBP - Final Lecture\n",
        "\n",
        "1. Course Review [16:15]\n",
        "2. Machine Learning Outlook [16:30]\n",
        "3. About the Grades and Feedback [17:00]\n",
        "4. Apero [17:15]\n",
        "\n",
        "University of Bern, 2024-05-22, PD Dr. S. Haug"
      ]
    },
    {
      "cell_type": "code",
      "source": [],
      "metadata": {
        "id": "Dce_Iqq8qXwB"
      },
      "execution_count": null,
      "outputs": []
    },
    {
      "cell_type": "markdown",
      "metadata": {
        "id": "n_5oRe0SXilM"
      },
      "source": [
        "### 1 Course Review\n",
        "- Algorithms, computers, languages, Python, Jupyter notebooks\n",
        "- Basic Python\n",
        "- Data I/O with Pandas\n",
        "- Data Visualisation\n",
        "- Numpy, ODE\n",
        "- String processing, documentation of code\n",
        "- HPC and Linux\n",
        "- Image Processing\n",
        "- Basic statistics\n",
        "- Fitting"
      ]
    },
    {
      "cell_type": "markdown",
      "metadata": {
        "id": "P9AbNUAav2oF"
      },
      "source": [
        "### Course Review - Alternative Representation\n",
        "- colab, jupyterhub/notebooks, text editors, github, Readme files\n",
        "- google.colab\n",
        "- numpy.*, pandas, mathplotlib.pyplot, seaborn, os, re, ...\n",
        "- scipy.integrate.odeint\n",
        "- scipy.optimize.curve_fit, symfit.fit\n",
        "- scipy.stats\n",
        "- Basic Linux commands\n",
        "- ssh, scp, slurm"
      ]
    },
    {
      "cell_type": "code",
      "source": [
        "\n",
        "\n",
        "import pandas as pd\n",
        "import matplotlib.pyplot as plt\n",
        "\n",
        "# List of numbers\n",
        "numbers23 = [5.0,5.5,6.0,5.0,5.5,6.0,5.5,6.0,5.5,5.0]\n",
        "numbers24 = [4.0,5.0,6.0,5.4,5.0,4.5,5.0,6.0,5.0,5.5]\n",
        "\n",
        "# Create a dataframe\n",
        "df = pd.DataFrame({'Numbers23': numbers23,'Numbers24': numbers24})\n",
        "#df = pd.DataFrame({'Numbers24': numbers24})\n",
        "\n",
        "# Plotting the histogram\n",
        "plt.hist(df['Numbers23'], bins=6, range=(3.5, 6.5),alpha=0.5, edgecolor='black')\n",
        "plt.hist(df['Numbers24'], bins=6, range=(3.5, 6.5),alpha=0.5, edgecolor='black')\n",
        "\n",
        "\n",
        "# Adding labels and title\n",
        "plt.xlabel('Grades')\n",
        "plt.ylabel('Frequency')\n",
        "plt.title('DSF-DCBP Grade Distribution 2024')\n",
        "\n",
        "# Display the plot\n",
        "plt.show()\n",
        "df.head()\n"
      ],
      "metadata": {
        "id": "qZEAbPpeyJ0k"
      },
      "execution_count": null,
      "outputs": []
    },
    {
      "cell_type": "markdown",
      "metadata": {
        "id": "xkSL59Sg7hmG"
      },
      "source": [
        "# Feedback on the course\n",
        "\n",
        "If you haven't done it already, please fill [this](https://docs.google.com/forms/d/e/1FAIpQLScULAjPM--yoYa7QjoLOT95rRp7wLct8as9WzjEdmVq6jt4WQ/viewform?usp=sf_link) form now (10 minutes).\n"
      ]
    },
    {
      "cell_type": "markdown",
      "metadata": {
        "id": "wkNfK9RyubTH"
      },
      "source": [
        "# Machine Learning (ML) Outlook\n"
      ]
    }
  ],
  "metadata": {
    "celltoolbar": "Slideshow",
    "colab": {
      "collapsed_sections": [
        "9SxiIczg1s1k",
        "pclZR6uFklf_",
        "8UQgU5I-lEll",
        "RHRXds9U9134",
        "K4qgOdz7Yyeb",
        "Vlf6_berQ1vq",
        "zI6s2Amob48j",
        "zZX9MQlORLfY",
        "AQ69XKdbZcA3"
      ],
      "name": "Course_1.ipynb",
      "provenance": [],
      "include_colab_link": true
    },
    "kernelspec": {
      "display_name": "Python 3",
      "language": "python",
      "name": "python3"
    },
    "language_info": {
      "codemirror_mode": {
        "name": "ipython",
        "version": 3
      },
      "file_extension": ".py",
      "mimetype": "text/x-python",
      "name": "python",
      "nbconvert_exporter": "python",
      "pygments_lexer": "ipython3",
      "version": "3.8.10"
    }
  },
  "nbformat": 4,
  "nbformat_minor": 0
}